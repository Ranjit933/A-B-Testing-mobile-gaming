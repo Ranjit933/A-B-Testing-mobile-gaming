{
 "cells": [
  {
   "cell_type": "markdown",
   "id": "29096202-fe7e-478a-b527-2d35196ee628",
   "metadata": {},
   "source": [
    "# Some Context"
   ]
  },
  {
   "cell_type": "markdown",
   "id": "a9fce4fa-46ad-4162-95e3-91892a22bf70",
   "metadata": {},
   "source": [
    "Cookie Cats is a hugely popular mobile puzzle game developed by Tactile Entertainment. It's a classic \"connect three\" style puzzle game where the player must connect tiles of the same color in order to clear the board and win the level. It also features singing cats.\r\n",
    "\r\n",
    "As players progress through the game they will encounter gates that force them to wait some time before they can progress or make an in-app purchase. In this project, we will analyze the result of an A/B test where the first gate in Cookie Cats was moved from level 30 to level 40. In particular, we will analyze the impact on player retention."
   ]
  },
  {
   "cell_type": "markdown",
   "id": "602710d0-5363-4aa5-b370-950e7c2bdee3",
   "metadata": {},
   "source": [
    "The different variables in the dataframe are the following ones:\n",
    "\n",
    "* **userid:** A unique number that identifies each player.\n",
    "  \n",
    "* **version:** Control group (a gate at level 30) or the test group (a gate at level 40).\n",
    "  \n",
    "* **sum_gamerounds**: The number of game rounds played by the player during the first 7 days.\n",
    "  \n",
    "* **retention_1:** The player come back 1 day after the installation (True) or not (False)\n",
    "  \n",
    "* **retention_7:** The player come back 7 days after the installation (True) or not (False)"
   ]
  },
  {
   "cell_type": "markdown",
   "id": "7c803e0c-1399-4f21-8a72-694ae923abd0",
   "metadata": {},
   "source": [
    "# Importing libraries"
   ]
  },
  {
   "cell_type": "code",
   "execution_count": 1,
   "id": "acfe9d99-eb56-4ec6-ae16-48df34c2d16e",
   "metadata": {},
   "outputs": [],
   "source": [
    "import pandas as pd\n",
    "import numpy as np\n",
    "import matplotlib.pyplot as plt\n",
    "import seaborn as sns\n",
    "from scipy.stats import shapiro, levene\n",
    "from scipy.stats import fisher_exact\n",
    "from scipy.stats import mannwhitneyu\n",
    "import warnings\n",
    "warnings.filterwarnings(\"ignore\")"
   ]
  },
  {
   "cell_type": "code",
   "execution_count": 2,
   "id": "1ac2910d-f3ca-40c9-af01-b62ce94bf0a8",
   "metadata": {},
   "outputs": [],
   "source": [
    "df = pd.read_csv('cookie_cats.csv')"
   ]
  },
  {
   "cell_type": "code",
   "execution_count": 3,
   "id": "5c4e0bac-8585-4b45-a15c-43f6d7fdc216",
   "metadata": {},
   "outputs": [
    {
     "data": {
      "text/html": [
       "<div>\n",
       "<style scoped>\n",
       "    .dataframe tbody tr th:only-of-type {\n",
       "        vertical-align: middle;\n",
       "    }\n",
       "\n",
       "    .dataframe tbody tr th {\n",
       "        vertical-align: top;\n",
       "    }\n",
       "\n",
       "    .dataframe thead th {\n",
       "        text-align: right;\n",
       "    }\n",
       "</style>\n",
       "<table border=\"1\" class=\"dataframe\">\n",
       "  <thead>\n",
       "    <tr style=\"text-align: right;\">\n",
       "      <th></th>\n",
       "      <th>userid</th>\n",
       "      <th>version</th>\n",
       "      <th>sum_gamerounds</th>\n",
       "      <th>retention_1</th>\n",
       "      <th>retention_7</th>\n",
       "    </tr>\n",
       "  </thead>\n",
       "  <tbody>\n",
       "    <tr>\n",
       "      <th>0</th>\n",
       "      <td>116</td>\n",
       "      <td>gate_30</td>\n",
       "      <td>3</td>\n",
       "      <td>False</td>\n",
       "      <td>False</td>\n",
       "    </tr>\n",
       "    <tr>\n",
       "      <th>1</th>\n",
       "      <td>337</td>\n",
       "      <td>gate_30</td>\n",
       "      <td>38</td>\n",
       "      <td>True</td>\n",
       "      <td>False</td>\n",
       "    </tr>\n",
       "    <tr>\n",
       "      <th>2</th>\n",
       "      <td>377</td>\n",
       "      <td>gate_40</td>\n",
       "      <td>165</td>\n",
       "      <td>True</td>\n",
       "      <td>False</td>\n",
       "    </tr>\n",
       "    <tr>\n",
       "      <th>3</th>\n",
       "      <td>483</td>\n",
       "      <td>gate_40</td>\n",
       "      <td>1</td>\n",
       "      <td>False</td>\n",
       "      <td>False</td>\n",
       "    </tr>\n",
       "    <tr>\n",
       "      <th>4</th>\n",
       "      <td>488</td>\n",
       "      <td>gate_40</td>\n",
       "      <td>179</td>\n",
       "      <td>True</td>\n",
       "      <td>True</td>\n",
       "    </tr>\n",
       "  </tbody>\n",
       "</table>\n",
       "</div>"
      ],
      "text/plain": [
       "   userid  version  sum_gamerounds  retention_1  retention_7\n",
       "0     116  gate_30               3        False        False\n",
       "1     337  gate_30              38         True        False\n",
       "2     377  gate_40             165         True        False\n",
       "3     483  gate_40               1        False        False\n",
       "4     488  gate_40             179         True         True"
      ]
     },
     "execution_count": 3,
     "metadata": {},
     "output_type": "execute_result"
    }
   ],
   "source": [
    "df.head()"
   ]
  },
  {
   "cell_type": "code",
   "execution_count": 4,
   "id": "82a8d583-4e9a-4d10-99a6-f137d133986a",
   "metadata": {},
   "outputs": [
    {
     "name": "stdout",
     "output_type": "stream",
     "text": [
      "<class 'pandas.core.frame.DataFrame'>\n",
      "RangeIndex: 90189 entries, 0 to 90188\n",
      "Data columns (total 5 columns):\n",
      " #   Column          Non-Null Count  Dtype \n",
      "---  ------          --------------  ----- \n",
      " 0   userid          90189 non-null  int64 \n",
      " 1   version         90189 non-null  object\n",
      " 2   sum_gamerounds  90189 non-null  int64 \n",
      " 3   retention_1     90189 non-null  bool  \n",
      " 4   retention_7     90189 non-null  bool  \n",
      "dtypes: bool(2), int64(2), object(1)\n",
      "memory usage: 2.2+ MB\n"
     ]
    }
   ],
   "source": [
    "df.info()"
   ]
  },
  {
   "cell_type": "code",
   "execution_count": 5,
   "id": "a7cacf06-7ef1-488f-8f69-6503d7132565",
   "metadata": {},
   "outputs": [
    {
     "data": {
      "text/plain": [
       "userid            0\n",
       "version           0\n",
       "sum_gamerounds    0\n",
       "retention_1       0\n",
       "retention_7       0\n",
       "dtype: int64"
      ]
     },
     "execution_count": 5,
     "metadata": {},
     "output_type": "execute_result"
    }
   ],
   "source": [
    "df.isna().sum()"
   ]
  },
  {
   "cell_type": "markdown",
   "id": "b1d1e2ca-8fa8-4193-87fa-f098c8ffd10c",
   "metadata": {},
   "source": [
    "Let's see if there are some user duplicated"
   ]
  },
  {
   "cell_type": "code",
   "execution_count": 6,
   "id": "ac153796-349a-4fed-a62c-b4fe49bb8cce",
   "metadata": {},
   "outputs": [
    {
     "data": {
      "text/plain": [
       "False"
      ]
     },
     "execution_count": 6,
     "metadata": {},
     "output_type": "execute_result"
    }
   ],
   "source": [
    "df['userid'].duplicated().any()"
   ]
  },
  {
   "cell_type": "markdown",
   "id": "de6ba38a-0f88-4b61-b5a3-ffb0d8efdd96",
   "metadata": {},
   "source": [
    "Since the userID doesn't contribute anything to the analysis, let's drop the column."
   ]
  },
  {
   "cell_type": "code",
   "execution_count": 7,
   "id": "5f86a470-2caa-4381-a3d6-71bd0437106c",
   "metadata": {},
   "outputs": [],
   "source": [
    "df = df.drop(labels = 'userid' , axis = 1)"
   ]
  },
  {
   "cell_type": "code",
   "execution_count": 8,
   "id": "808a6504-5b00-4969-a121-741766122b92",
   "metadata": {},
   "outputs": [
    {
     "data": {
      "text/html": [
       "<div>\n",
       "<style scoped>\n",
       "    .dataframe tbody tr th:only-of-type {\n",
       "        vertical-align: middle;\n",
       "    }\n",
       "\n",
       "    .dataframe tbody tr th {\n",
       "        vertical-align: top;\n",
       "    }\n",
       "\n",
       "    .dataframe thead th {\n",
       "        text-align: right;\n",
       "    }\n",
       "</style>\n",
       "<table border=\"1\" class=\"dataframe\">\n",
       "  <thead>\n",
       "    <tr style=\"text-align: right;\">\n",
       "      <th></th>\n",
       "      <th>version</th>\n",
       "      <th>sum_gamerounds</th>\n",
       "      <th>retention_1</th>\n",
       "      <th>retention_7</th>\n",
       "    </tr>\n",
       "  </thead>\n",
       "  <tbody>\n",
       "    <tr>\n",
       "      <th>0</th>\n",
       "      <td>gate_30</td>\n",
       "      <td>3</td>\n",
       "      <td>False</td>\n",
       "      <td>False</td>\n",
       "    </tr>\n",
       "    <tr>\n",
       "      <th>1</th>\n",
       "      <td>gate_30</td>\n",
       "      <td>38</td>\n",
       "      <td>True</td>\n",
       "      <td>False</td>\n",
       "    </tr>\n",
       "    <tr>\n",
       "      <th>2</th>\n",
       "      <td>gate_40</td>\n",
       "      <td>165</td>\n",
       "      <td>True</td>\n",
       "      <td>False</td>\n",
       "    </tr>\n",
       "    <tr>\n",
       "      <th>3</th>\n",
       "      <td>gate_40</td>\n",
       "      <td>1</td>\n",
       "      <td>False</td>\n",
       "      <td>False</td>\n",
       "    </tr>\n",
       "    <tr>\n",
       "      <th>4</th>\n",
       "      <td>gate_40</td>\n",
       "      <td>179</td>\n",
       "      <td>True</td>\n",
       "      <td>True</td>\n",
       "    </tr>\n",
       "  </tbody>\n",
       "</table>\n",
       "</div>"
      ],
      "text/plain": [
       "   version  sum_gamerounds  retention_1  retention_7\n",
       "0  gate_30               3        False        False\n",
       "1  gate_30              38         True        False\n",
       "2  gate_40             165         True        False\n",
       "3  gate_40               1        False        False\n",
       "4  gate_40             179         True         True"
      ]
     },
     "execution_count": 8,
     "metadata": {},
     "output_type": "execute_result"
    }
   ],
   "source": [
    "df.head()"
   ]
  },
  {
   "cell_type": "code",
   "execution_count": 9,
   "id": "087a0129-e9cd-406b-8d37-97063942bf39",
   "metadata": {},
   "outputs": [
    {
     "data": {
      "text/html": [
       "<div>\n",
       "<style scoped>\n",
       "    .dataframe tbody tr th:only-of-type {\n",
       "        vertical-align: middle;\n",
       "    }\n",
       "\n",
       "    .dataframe tbody tr th {\n",
       "        vertical-align: top;\n",
       "    }\n",
       "\n",
       "    .dataframe thead th {\n",
       "        text-align: right;\n",
       "    }\n",
       "</style>\n",
       "<table border=\"1\" class=\"dataframe\">\n",
       "  <thead>\n",
       "    <tr style=\"text-align: right;\">\n",
       "      <th></th>\n",
       "      <th>sum_gamerounds</th>\n",
       "    </tr>\n",
       "  </thead>\n",
       "  <tbody>\n",
       "    <tr>\n",
       "      <th>count</th>\n",
       "      <td>90189.000000</td>\n",
       "    </tr>\n",
       "    <tr>\n",
       "      <th>mean</th>\n",
       "      <td>51.872457</td>\n",
       "    </tr>\n",
       "    <tr>\n",
       "      <th>std</th>\n",
       "      <td>195.050858</td>\n",
       "    </tr>\n",
       "    <tr>\n",
       "      <th>min</th>\n",
       "      <td>0.000000</td>\n",
       "    </tr>\n",
       "    <tr>\n",
       "      <th>25%</th>\n",
       "      <td>5.000000</td>\n",
       "    </tr>\n",
       "    <tr>\n",
       "      <th>50%</th>\n",
       "      <td>16.000000</td>\n",
       "    </tr>\n",
       "    <tr>\n",
       "      <th>75%</th>\n",
       "      <td>51.000000</td>\n",
       "    </tr>\n",
       "    <tr>\n",
       "      <th>max</th>\n",
       "      <td>49854.000000</td>\n",
       "    </tr>\n",
       "  </tbody>\n",
       "</table>\n",
       "</div>"
      ],
      "text/plain": [
       "       sum_gamerounds\n",
       "count    90189.000000\n",
       "mean        51.872457\n",
       "std        195.050858\n",
       "min          0.000000\n",
       "25%          5.000000\n",
       "50%         16.000000\n",
       "75%         51.000000\n",
       "max      49854.000000"
      ]
     },
     "execution_count": 9,
     "metadata": {},
     "output_type": "execute_result"
    }
   ],
   "source": [
    "df.describe()"
   ]
  },
  {
   "cell_type": "markdown",
   "id": "8375b4ed-9993-4202-8630-11f87c89c9ba",
   "metadata": {},
   "source": [
    "#### Game Round"
   ]
  },
  {
   "cell_type": "code",
   "execution_count": 10,
   "id": "c90ba143-9d06-4520-af0a-c9fcd0f1863d",
   "metadata": {},
   "outputs": [
    {
     "data": {
      "text/html": [
       "<div>\n",
       "<style scoped>\n",
       "    .dataframe tbody tr th:only-of-type {\n",
       "        vertical-align: middle;\n",
       "    }\n",
       "\n",
       "    .dataframe tbody tr th {\n",
       "        vertical-align: top;\n",
       "    }\n",
       "\n",
       "    .dataframe thead th {\n",
       "        text-align: right;\n",
       "    }\n",
       "</style>\n",
       "<table border=\"1\" class=\"dataframe\">\n",
       "  <thead>\n",
       "    <tr style=\"text-align: right;\">\n",
       "      <th></th>\n",
       "      <th>count</th>\n",
       "      <th>mean</th>\n",
       "      <th>median</th>\n",
       "      <th>min</th>\n",
       "      <th>max</th>\n",
       "    </tr>\n",
       "    <tr>\n",
       "      <th>version</th>\n",
       "      <th></th>\n",
       "      <th></th>\n",
       "      <th></th>\n",
       "      <th></th>\n",
       "      <th></th>\n",
       "    </tr>\n",
       "  </thead>\n",
       "  <tbody>\n",
       "    <tr>\n",
       "      <th>gate_30</th>\n",
       "      <td>44700</td>\n",
       "      <td>52.456264</td>\n",
       "      <td>17.0</td>\n",
       "      <td>0</td>\n",
       "      <td>49854</td>\n",
       "    </tr>\n",
       "    <tr>\n",
       "      <th>gate_40</th>\n",
       "      <td>45489</td>\n",
       "      <td>51.298776</td>\n",
       "      <td>16.0</td>\n",
       "      <td>0</td>\n",
       "      <td>2640</td>\n",
       "    </tr>\n",
       "  </tbody>\n",
       "</table>\n",
       "</div>"
      ],
      "text/plain": [
       "         count       mean  median  min    max\n",
       "version                                      \n",
       "gate_30  44700  52.456264    17.0    0  49854\n",
       "gate_40  45489  51.298776    16.0    0   2640"
      ]
     },
     "execution_count": 10,
     "metadata": {},
     "output_type": "execute_result"
    }
   ],
   "source": [
    "df.groupby('version')['sum_gamerounds'].agg(['count','mean','median','min','max'])"
   ]
  },
  {
   "cell_type": "markdown",
   "id": "2f0ad4da-bdfc-4308-9cc8-f5610ca4956f",
   "metadata": {},
   "source": [
    "Comparing the mean and the median, we can see that there are a big difference between them. The mean are very affectet by outliers, while the median not.\r\n",
    "\r\n",
    "Since the statistical tests are also affected by outliers, let's manage them."
   ]
  },
  {
   "cell_type": "code",
   "execution_count": 13,
   "id": "3e19a9b0-831a-4134-b1d8-f8b393756356",
   "metadata": {},
   "outputs": [
    {
     "name": "stdout",
     "output_type": "stream",
     "text": [
      "120.0 -64.0\n"
     ]
    }
   ],
   "source": [
    "# Identifying thresholds\n",
    "# 75Th percentile\n",
    "seventy_fifth = df['sum_gamerounds'].quantile(0.75)\n",
    "#25th percentile\n",
    "twenty_fifth = df['sum_gamerounds'].quantile(0.25)\n",
    "# Interquartile range\n",
    "gamerounds_iqr = seventy_fifth - twenty_fifth\n",
    "\n",
    "# Identifying outliers\n",
    "# Upper threshold\n",
    "upper = seventy_fifth + (1.5 * gamerounds_iqr)\n",
    "# Lower threshold\n",
    "lower = twenty_fifth - (1.5 * gamerounds_iqr)\n",
    "print(upper,lower)"
   ]
  },
  {
   "cell_type": "code",
   "execution_count": 14,
   "id": "c1b40dab-26ff-4cce-a0bc-9e1f2b705c3a",
   "metadata": {},
   "outputs": [
    {
     "data": {
      "text/plain": [
       "11.284081207242568"
      ]
     },
     "execution_count": 14,
     "metadata": {},
     "output_type": "execute_result"
    }
   ],
   "source": [
    "Outliers_percent = len(df[df['sum_gamerounds']>120]['sum_gamerounds'])/len(df) * 100\n",
    "Outliers_percent"
   ]
  },
  {
   "cell_type": "markdown",
   "id": "1a32ef82-de9e-4ab0-af48-e80e021911ac",
   "metadata": {},
   "source": [
    "Removing 11% of the data may be too aggressiv, so the dessicion of droping the data depends on:\n",
    "\n",
    "\n",
    "* Distribution of the data: If the data is normally distributed or close to a normal distribution, removing 11% of the data may be too aggressive, as it could eliminate valid values that are simply at the extremes of the distribution.\n",
    "\n",
    "\n",
    "\n",
    "* Impact on the analysis: Removing 11% of the data can significantly affect the results of the analysis, especially if the data sample is small. Before removing outliers, it is important to assess how this will affect the final analysis results and whether it is necessary to adjust the approach or consider alternative methods for dealing with them.\n",
    "\n",
    "\n",
    "\n",
    "\n",
    "* Nature of the outliers: It is important to consider whether the outliers identified are truly anomalies or if they are simply valid but extreme values. In some cases, outliers may contain important or meaningful information that should not be discarded without careful evaluation.\n",
    "\n",
    "\n",
    "To avoid problems let's see the outliers more detailed"
   ]
  },
  {
   "cell_type": "code",
   "execution_count": 15,
   "id": "c79b9da6-04a2-4520-bc28-08156c7c98c7",
   "metadata": {},
   "outputs": [
    {
     "data": {
      "text/plain": [
       "34383      121\n",
       "60004      121\n",
       "78592      121\n",
       "63275      121\n",
       "48580      121\n",
       "         ...  \n",
       "48188     2294\n",
       "43671     2438\n",
       "29417     2640\n",
       "7912      2961\n",
       "57702    49854\n",
       "Name: sum_gamerounds, Length: 10177, dtype: int64"
      ]
     },
     "execution_count": 15,
     "metadata": {},
     "output_type": "execute_result"
    }
   ],
   "source": [
    "df[df['sum_gamerounds']>120]['sum_gamerounds'].sort_values()"
   ]
  },
  {
   "cell_type": "code",
   "execution_count": 16,
   "id": "5e2eccc7-ba19-46d4-bf16-fe81fa2e9b1b",
   "metadata": {},
   "outputs": [
    {
     "data": {
      "text/plain": [
       "<Axes: ylabel='sum_gamerounds'>"
      ]
     },
     "execution_count": 16,
     "metadata": {},
     "output_type": "execute_result"
    },
    {
     "data": {
      "image/png": "[encoded data removed]",
      "text/plain": [
       "<Figure size 640x480 with 1 Axes>"
      ]
     },
     "metadata": {},
     "output_type": "display_data"
    }
   ],
   "source": [
    "sns.scatterplot(df[df['sum_gamerounds']>120]['sum_gamerounds'].sort_values())"
   ]
  },
  {
   "cell_type": "markdown",
   "id": "84f25e0f-ff9f-402d-966a-1c38cd512c60",
   "metadata": {},
   "source": [
    "We see that there are one highly extream value.\n",
    "\n",
    "Let's drop it:"
   ]
  },
  {
   "cell_type": "code",
   "execution_count": 17,
   "id": "18795204-b286-452a-b467-da0e61cb7f78",
   "metadata": {},
   "outputs": [],
   "source": [
    "df_clean = df.drop(df[df['sum_gamerounds']>10000].index)"
   ]
  },
  {
   "cell_type": "code",
   "execution_count": 18,
   "id": "eb0e2d04-68f1-4b53-bd0f-a8f1587b79a8",
   "metadata": {},
   "outputs": [
    {
     "data": {
      "text/plain": [
       "<Axes: xlabel='None', ylabel='sum_gamerounds'>"
      ]
     },
     "execution_count": 18,
     "metadata": {},
     "output_type": "execute_result"
    },
    {
     "data": {
      "image/png": "[encoded data removed]",
      "text/plain": [
       "<Figure size 2000x500 with 1 Axes>"
      ]
     },
     "metadata": {},
     "output_type": "display_data"
    }
   ],
   "source": [
    "fig, ax =  plt.subplots(figsize=(20,5))\n",
    "sns.lineplot(x=df_clean.index, y = 'sum_gamerounds', data = df_clean, hue = 'version')"
   ]
  },
  {
   "cell_type": "code",
   "execution_count": 22,
   "id": "52288f35-c34b-4eb7-a7e7-2eb2eb2929f8",
   "metadata": {},
   "outputs": [
    {
     "data": {
      "text/plain": [
       "(0.0, 125.0)"
      ]
     },
     "execution_count": 22,
     "metadata": {},
     "output_type": "execute_result"
    },
    {
     "data": {
      "image/png": "[encoded data removed]",
      "text/plain": [
       "<Figure size 640x480 with 1 Axes>"
      ]
     },
     "metadata": {},
     "output_type": "display_data"
    }
   ],
   "source": [
    "sns.boxplot(x = 'version', y ='sum_gamerounds', data = df_clean, palette ='viridis')\n",
    "plt.ylim(0,125)"
   ]
  },
  {
   "cell_type": "code",
   "execution_count": 27,
   "id": "866ac220-476e-49b9-8321-414b8c4433ea",
   "metadata": {},
   "outputs": [
    {
     "data": {
      "text/plain": [
       "Text(0, 0.5, 'Game Rounds average')"
      ]
     },
     "execution_count": 27,
     "metadata": {},
     "output_type": "execute_result"
    },
    {
     "data": {
      "image/png": "[encoded data removed]",
      "text/plain": [
       "<Figure size 640x480 with 1 Axes>"
      ]
     },
     "metadata": {},
     "output_type": "display_data"
    }
   ],
   "source": [
    "fig, ax = plt.subplots()\n",
    "sns.barplot(x = pd.DataFrame(df_clean.groupby('version')['sum_gamerounds'].mean()).index, y = 'sum_gamerounds',data = pd.DataFrame(df_clean.groupby('version')['sum_gamerounds'].mean()),palette ='viridis')\n",
    "ax.set_title('Game Rounds average by version')\n",
    "ax.set_ylabel('Game Rounds average')"
   ]
  },
  {
   "cell_type": "markdown",
   "id": "79eba63a-52bb-44ea-b96c-db375c3b519d",
   "metadata": {},
   "source": [
    "#### Retention 1 day"
   ]
  },
  {
   "cell_type": "code",
   "execution_count": 28,
   "id": "f3e7c244-7521-4d40-a409-eff92665771d",
   "metadata": {},
   "outputs": [
    {
     "data": {
      "text/html": [
       "<div>\n",
       "<style scoped>\n",
       "    .dataframe tbody tr th:only-of-type {\n",
       "        vertical-align: middle;\n",
       "    }\n",
       "\n",
       "    .dataframe tbody tr th {\n",
       "        vertical-align: top;\n",
       "    }\n",
       "\n",
       "    .dataframe thead tr th {\n",
       "        text-align: left;\n",
       "    }\n",
       "\n",
       "    .dataframe thead tr:last-of-type th {\n",
       "        text-align: right;\n",
       "    }\n",
       "</style>\n",
       "<table border=\"1\" class=\"dataframe\">\n",
       "  <thead>\n",
       "    <tr>\n",
       "      <th></th>\n",
       "      <th colspan=\"4\" halign=\"left\">retention_1</th>\n",
       "    </tr>\n",
       "    <tr>\n",
       "      <th></th>\n",
       "      <th>Retained</th>\n",
       "      <th>Total</th>\n",
       "      <th>Retention rate</th>\n",
       "      <th>Chrun rate</th>\n",
       "    </tr>\n",
       "    <tr>\n",
       "      <th>version</th>\n",
       "      <th></th>\n",
       "      <th></th>\n",
       "      <th></th>\n",
       "      <th></th>\n",
       "    </tr>\n",
       "  </thead>\n",
       "  <tbody>\n",
       "    <tr>\n",
       "      <th>gate_30</th>\n",
       "      <td>20034</td>\n",
       "      <td>44699</td>\n",
       "      <td>0.448198</td>\n",
       "      <td>0.551802</td>\n",
       "    </tr>\n",
       "    <tr>\n",
       "      <th>gate_40</th>\n",
       "      <td>20119</td>\n",
       "      <td>45489</td>\n",
       "      <td>0.442283</td>\n",
       "      <td>0.557717</td>\n",
       "    </tr>\n",
       "  </tbody>\n",
       "</table>\n",
       "</div>"
      ],
      "text/plain": [
       "        retention_1                                 \n",
       "           Retained  Total Retention rate Chrun rate\n",
       "version                                             \n",
       "gate_30       20034  44699       0.448198   0.551802\n",
       "gate_40       20119  45489       0.442283   0.557717"
      ]
     },
     "execution_count": 28,
     "metadata": {},
     "output_type": "execute_result"
    }
   ],
   "source": [
    "retention_1_day = pd.DataFrame(df_clean.groupby('version').agg({'retention_1':[('Retained','sum'),('Total','count'),('Retention rate',lambda x: (x.sum() / x.count())),('Chrun rate', lambda x: (1-(x.sum() / x.count())))]}))\n",
    "retention_1_day"
   ]
  },
  {
   "cell_type": "markdown",
   "id": "a4a9c893-f72b-4a30-84b3-49e79c373529",
   "metadata": {},
   "source": [
    "For gate at level 30 the percentage of retention after 1 day is 44.81%\n",
    "\n",
    "For gate at level 40 the percentage of retention after 1 day is 44.22%"
   ]
  },
  {
   "cell_type": "code",
   "execution_count": 31,
   "id": "e362d9a3-169e-469b-9138-cebb139e2de1",
   "metadata": {},
   "outputs": [
    {
     "data": {
      "image/png": "[encoded data removed]",
      "text/plain": [
       "<Figure size 640x480 with 1 Axes>"
      ]
     },
     "metadata": {},
     "output_type": "display_data"
    }
   ],
   "source": [
    "stacked_data = df_clean.groupby('version')['retention_1'].value_counts().unstack()\n",
    "stacked_data.plot(kind='bar', stacked = True)\n",
    "plt.title('Stacked Bar Plot of Retention 1 day by Version')\n",
    "plt.xlabel('Version')\n",
    "plt.ylabel('Count')\n",
    "plt.legend(title = 'Retention')\n",
    "plt.xticks(rotation = 0)\n",
    "plt.show()"
   ]
  },
  {
   "cell_type": "markdown",
   "id": "9c17cc79-237a-4323-842a-c96a6e40afcf",
   "metadata": {},
   "source": [
    "#### Retantion 7 days"
   ]
  },
  {
   "cell_type": "code",
   "execution_count": 32,
   "id": "7355fb8c-cba0-4c72-b348-3e488ee5c6eb",
   "metadata": {},
   "outputs": [
    {
     "data": {
      "text/html": [
       "<div>\n",
       "<style scoped>\n",
       "    .dataframe tbody tr th:only-of-type {\n",
       "        vertical-align: middle;\n",
       "    }\n",
       "\n",
       "    .dataframe tbody tr th {\n",
       "        vertical-align: top;\n",
       "    }\n",
       "\n",
       "    .dataframe thead tr th {\n",
       "        text-align: left;\n",
       "    }\n",
       "\n",
       "    .dataframe thead tr:last-of-type th {\n",
       "        text-align: right;\n",
       "    }\n",
       "</style>\n",
       "<table border=\"1\" class=\"dataframe\">\n",
       "  <thead>\n",
       "    <tr>\n",
       "      <th></th>\n",
       "      <th colspan=\"4\" halign=\"left\">retention_7</th>\n",
       "    </tr>\n",
       "    <tr>\n",
       "      <th></th>\n",
       "      <th>Retained</th>\n",
       "      <th>Total</th>\n",
       "      <th>Retention rate</th>\n",
       "      <th>Churn rate</th>\n",
       "    </tr>\n",
       "    <tr>\n",
       "      <th>version</th>\n",
       "      <th></th>\n",
       "      <th></th>\n",
       "      <th></th>\n",
       "      <th></th>\n",
       "    </tr>\n",
       "  </thead>\n",
       "  <tbody>\n",
       "    <tr>\n",
       "      <th>gate_30</th>\n",
       "      <td>8501</td>\n",
       "      <td>44699</td>\n",
       "      <td>0.190183</td>\n",
       "      <td>0.809817</td>\n",
       "    </tr>\n",
       "    <tr>\n",
       "      <th>gate_40</th>\n",
       "      <td>8279</td>\n",
       "      <td>45489</td>\n",
       "      <td>0.182000</td>\n",
       "      <td>0.818000</td>\n",
       "    </tr>\n",
       "  </tbody>\n",
       "</table>\n",
       "</div>"
      ],
      "text/plain": [
       "        retention_7                                 \n",
       "           Retained  Total Retention rate Churn rate\n",
       "version                                             \n",
       "gate_30        8501  44699       0.190183   0.809817\n",
       "gate_40        8279  45489       0.182000   0.818000"
      ]
     },
     "execution_count": 32,
     "metadata": {},
     "output_type": "execute_result"
    }
   ],
   "source": [
    "df_clean.groupby('version').agg({'retention_7':[('Retained','sum'),('Total','count'),('Retention rate',lambda x:(x.sum() / x.count())),('Churn rate',lambda x:(1-(x.sum() / x.count())))]})"
   ]
  },
  {
   "cell_type": "markdown",
   "id": "3a15d559-a7e6-4839-be0b-59e107181e29",
   "metadata": {},
   "source": [
    "For gate at level 30 the percentage of retention after 7 days is 19.01%\n",
    "\n",
    "For gate at level 40 the percentage of retention after 7 days is 18.20%"
   ]
  },
  {
   "cell_type": "code",
   "execution_count": 34,
   "id": "141b2dc7-67ce-492c-80b3-2136702863f2",
   "metadata": {},
   "outputs": [
    {
     "data": {
      "image/png": "[encoded data removed]",
      "text/plain": [
       "<Figure size 640x480 with 1 Axes>"
      ]
     },
     "metadata": {},
     "output_type": "display_data"
    }
   ],
   "source": [
    "stacked_data = df_clean.groupby('version')['retention_7'].value_counts().unstack()\n",
    "stacked_data.plot(kind = 'bar', stacked = True)\n",
    "plt.title('Stacked Bar Plot of Retention 7 days by Version')\n",
    "plt.xlabel('Version')\n",
    "plt.ylabel('Count')\n",
    "plt.legend(title='Retention')\n",
    "plt.xticks(rotation = 0)\n",
    "plt.show()"
   ]
  },
  {
   "cell_type": "markdown",
   "id": "b634369a-7095-487a-b416-72f07229407f",
   "metadata": {},
   "source": [
    "#### Resume"
   ]
  },
  {
   "cell_type": "code",
   "execution_count": 36,
   "id": "a5b2e2e8-fd7c-4a08-8c86-5689367fb601",
   "metadata": {},
   "outputs": [
    {
     "data": {
      "text/html": [
       "<div>\n",
       "<style scoped>\n",
       "    .dataframe tbody tr th:only-of-type {\n",
       "        vertical-align: middle;\n",
       "    }\n",
       "\n",
       "    .dataframe tbody tr th {\n",
       "        vertical-align: top;\n",
       "    }\n",
       "\n",
       "    .dataframe thead th {\n",
       "        text-align: right;\n",
       "    }\n",
       "</style>\n",
       "<table border=\"1\" class=\"dataframe\">\n",
       "  <thead>\n",
       "    <tr style=\"text-align: right;\">\n",
       "      <th></th>\n",
       "      <th>RET1_COUNT</th>\n",
       "      <th>RET7_COUNT</th>\n",
       "      <th>RET1_RATIO</th>\n",
       "      <th>RET7_RATIO</th>\n",
       "    </tr>\n",
       "  </thead>\n",
       "  <tbody>\n",
       "    <tr>\n",
       "      <th>False</th>\n",
       "      <td>50035</td>\n",
       "      <td>73408</td>\n",
       "      <td>0.554786</td>\n",
       "      <td>0.813944</td>\n",
       "    </tr>\n",
       "    <tr>\n",
       "      <th>True</th>\n",
       "      <td>40153</td>\n",
       "      <td>16780</td>\n",
       "      <td>0.445214</td>\n",
       "      <td>0.186056</td>\n",
       "    </tr>\n",
       "  </tbody>\n",
       "</table>\n",
       "</div>"
      ],
      "text/plain": [
       "       RET1_COUNT  RET7_COUNT  RET1_RATIO  RET7_RATIO\n",
       "False       50035       73408    0.554786    0.813944\n",
       "True        40153       16780    0.445214    0.186056"
      ]
     },
     "execution_count": 36,
     "metadata": {},
     "output_type": "execute_result"
    }
   ],
   "source": [
    "pd.DataFrame({\"RET1_COUNT\": df_clean[\"retention_1\"].value_counts(),\n",
    "              \"RET7_COUNT\": df_clean[\"retention_7\"].value_counts(),\n",
    "              \"RET1_RATIO\": df_clean[\"retention_1\"].value_counts() / len(df_clean),\n",
    "              \"RET7_RATIO\": df_clean[\"retention_7\"].value_counts() / len(df_clean)})"
   ]
  },
  {
   "cell_type": "markdown",
   "id": "43384a5e-ba55-4047-be3f-a2063414aa31",
   "metadata": {},
   "source": [
    "Now that we have analysize the data, let's perform the A/B test with the hyothesis test."
   ]
  },
  {
   "cell_type": "markdown",
   "id": "1973a161-e3e7-4a65-8ac4-bddbf2738f7f",
   "metadata": {},
   "source": [
    "#### A/B Test"
   ]
  },
  {
   "cell_type": "markdown",
   "id": "2dbc3c87-3268-4da2-be01-28e21cba1f9a",
   "metadata": {},
   "source": [
    "First, let's check the asumptions:\n",
    "\n",
    "\n",
    "\n",
    "To run a parametric hypothesis test we must ensure that the assumptions are met. The assumptions are:\n",
    "\n",
    "\n",
    "\n",
    "* **Randomness:** The samples are random subsets of larger populations.\n",
    "\n",
    "\n",
    "* **Independence of observations:** Each observation (row) in the dataset is independent.\n",
    "\n",
    "\n",
    "\n",
    "* **Large sample size:** The sample is big enough to mitigate uncertainty, so that the Central Limit Theorem applies. The number of observations depends on the statistical test performed.\n",
    "\n",
    "\n",
    "\n",
    "\n",
    "* **Normal distribution:** The distribution of the data should follow a normal distribution.\n",
    "\n",
    "\n",
    "\n",
    "* **Homogeneity of variances:** The variances of the groups or samples being compared should be approximately equal.\n",
    "\n",
    "\n",
    "The first three assumptions are met. Let's see the next two"
   ]
  },
  {
   "cell_type": "markdown",
   "id": "a00e94b2-f969-4c16-919a-c7894a6e7430",
   "metadata": {},
   "source": [
    "#### Retention 1 day"
   ]
  },
  {
   "cell_type": "code",
   "execution_count": 38,
   "id": "f210457c-c9f5-40a1-9a1f-30d5dd64f78e",
   "metadata": {},
   "outputs": [
    {
     "name": "stdout",
     "output_type": "stream",
     "text": [
      "Shapiro-Wilk test for normality (Gate 30):p-value =0.0\n",
      "Shapiro-Wilk test for normality (Gate 40): p-value =0.0\n",
      "Levene's test for equality of variances: p-value =0.07392220630215537\n"
     ]
    }
   ],
   "source": [
    "from scipy.stats import shapiro, levene\n",
    "\n",
    "# Normality assumption:\n",
    "# H0: Distribution is Normal\n",
    "# H1: Distribution is not Normal\n",
    "\n",
    "shapiro_stat_30,shapiro_p_value_30 = shapiro(df_clean[df_clean['version']== 'gate_30']['retention_1'])\n",
    "shapiro_stat_40,shapiro_p_value_40 = shapiro(df_clean[df_clean['version']== 'gate_40']['retention_1'])\n",
    "print(f'Shapiro-Wilk test for normality (Gate 30):p-value ={shapiro_p_value_30}')\n",
    "print(f'Shapiro-Wilk test for normality (Gate 40): p-value ={shapiro_p_value_40}')\n",
    "\n",
    "# Homogeneity of variances:\n",
    "# H0: Homogeneity\n",
    "# H1: Heterogeneous\n",
    "\n",
    "levene_stat, levene_p_value = levene(df_clean[df_clean['version'] == 'gate_30']['retention_1'],df_clean[df_clean['version'] == 'gate_40']['retention_1'])\n",
    "print(f\"Levene's test for equality of variances: p-value ={levene_p_value}\")"
   ]
  },
  {
   "cell_type": "markdown",
   "id": "cdd4a53e-76e7-40b8-b9c4-c9eda1311417",
   "metadata": {},
   "source": [
    "A p-value of 0.0 in the Shapiro-Wilk tests for normality indicates that there is significant evidence to reject the null hypothesis of normality. This suggests that the data in both groups do not follow a normal distribution. Regarding the result of Levene's test for the equality of variances, a p-value of 0.0739 indicates that there is not enough evidence to reject the null hypothesis of equal variances. This suggests that the two groups may have equal variances.\n",
    "\n",
    "\n",
    "\n",
    "\n",
    "\n",
    "\n",
    "\n",
    "Therefor, let's perform a Non-parametric test.\n",
    "\n",
    "\n",
    "\n",
    "As we are comparing the proportions of successes of one categorical variable between the categories of another categorical variable, let's perform a Fisher exact test:"
   ]
  },
  {
   "cell_type": "code",
   "execution_count": 40,
   "id": "5d8ad0f2-97d2-41a1-8a8f-b910489707cc",
   "metadata": {},
   "outputs": [
    {
     "name": "stdout",
     "output_type": "stream",
     "text": [
      "Result from Fisher exact test:\n",
      "Odds ratio: 0.9763361587626617\n",
      "P-value: 0.07470295380924759\n"
     ]
    }
   ],
   "source": [
    "from scipy.stats import fisher_exact\n",
    "\n",
    "# Contingency table\n",
    "contingency_table = pd.crosstab(df_clean['version'],df_clean['retention_1'])\n",
    "\n",
    "# Fisher exact test\n",
    "# H0: p1 = p2\n",
    "# H1: p1 != p2\n",
    "\n",
    "odds_ratio, p_value = fisher_exact(contingency_table)\n",
    "print(\"Result from Fisher exact test:\")\n",
    "print(\"Odds ratio:\", odds_ratio)\n",
    "print(\"P-value:\", p_value)"
   ]
  },
  {
   "cell_type": "markdown",
   "id": "4d1b3323-5d8d-4912-a938-a7921e8144ce",
   "metadata": {},
   "source": [
    "n this case, the null hypothesis would be that the game version (gate_30 and gate_40) and retention after 1 day (True or False) are independent of each other.\r\n",
    "\r\n",
    "In other words, the null hypothesis asserts that the proportion of players retaining the game after 1 day is the same regardless of the game version they are using"
   ]
  },
  {
   "cell_type": "code",
   "execution_count": 42,
   "id": "157504b8-2a97-4131-b4d6-2252abb31ed7",
   "metadata": {},
   "outputs": [
    {
     "name": "stdout",
     "output_type": "stream",
     "text": [
      "Shapiro-Wilk test for normality (Gate 30):p-value =0.0\n",
      "Shapiro-Wilk test for normality (Gate 40): p-value =0.0\n",
      "Levene's test for equality of variances: p-value =0.0015915357297900119\n"
     ]
    }
   ],
   "source": [
    "# Normality assumption:\n",
    "# H0: Distribution is Normal\n",
    "# H1: Distribution is not Normal\n",
    "\n",
    "shapiro_stat_30,shapiro_p_value_30 = shapiro(df_clean[df_clean['version']== 'gate_30']['retention_7'])\n",
    "shapiro_stat_40,shapiro_p_value_40 = shapiro(df_clean[df_clean['version']== 'gate_40']['retention_7'])\n",
    "print(f'Shapiro-Wilk test for normality (Gate 30):p-value ={shapiro_p_value_30}')\n",
    "print(f'Shapiro-Wilk test for normality (Gate 40): p-value ={shapiro_p_value_40}')\n",
    "\n",
    "# Homogeneity of variances:\n",
    "# H0: Homogeneity\n",
    "# H1: Heterogeneous\n",
    "\n",
    "levene_stat, levene_p_value = levene(df_clean[df_clean['version'] == 'gate_30']['retention_7'],df_clean[df_clean['version'] == 'gate_40']['retention_7'])\n",
    "print(f\"Levene's test for equality of variances: p-value ={levene_p_value}\")"
   ]
  },
  {
   "cell_type": "markdown",
   "id": "4f1f248a-fff5-4994-9a13-f39fb757a152",
   "metadata": {},
   "source": [
    "In this case, both samples are non normally distributed and have heterogeneity of variances.\r\n",
    "\r\n",
    "Therefore we are going to perform a non paramtric test. In the same way as before, let's performa Fisher exact test."
   ]
  },
  {
   "cell_type": "code",
   "execution_count": 43,
   "id": "72865a7d-178c-4f72-be5b-fe1a696dd694",
   "metadata": {},
   "outputs": [
    {
     "name": "stdout",
     "output_type": "stream",
     "text": [
      "Result from Fisher exact test:\n",
      "Odds ratio: 0.947398673017617\n",
      "P-value: 0.0016378383114174855\n"
     ]
    }
   ],
   "source": [
    "# Contingency table\n",
    "contingency_table = pd.crosstab(df_clean['version'],df_clean['retention_7'])\n",
    "\n",
    "# Fisher exact test\n",
    "# H0: p1 = p2\n",
    "# H1: p1 != p2\n",
    "\n",
    "odds_ratio, p_value = fisher_exact(contingency_table)\n",
    "print(\"Result from Fisher exact test:\")\n",
    "print(\"Odds ratio:\", odds_ratio)\n",
    "print(\"P-value:\", p_value)"
   ]
  },
  {
   "cell_type": "markdown",
   "id": "41813f28-1ace-4728-8943-f2caafca659a",
   "metadata": {},
   "source": [
    "Since the p-value is less than the significance level of 0.05, we reject the null hypothesis. In other words, there is enough evidence to assert that the retention proportion after 7 days differs between the two versions of the game. This suggests that the game version may have a significant effect on player retention after 7 days."
   ]
  },
  {
   "cell_type": "markdown",
   "id": "b231a967-e64d-47e5-abd8-84ab0c56f522",
   "metadata": {},
   "source": [
    "#### Game Rounds:"
   ]
  },
  {
   "cell_type": "code",
   "execution_count": 44,
   "id": "68dad5fe-16ae-448c-8c38-a9a9e549f105",
   "metadata": {},
   "outputs": [
    {
     "name": "stdout",
     "output_type": "stream",
     "text": [
      "Shapiro-Wilk test for normality (Gate 30):p-value =0.0\n",
      "Shapiro-Wilk test for normality (Gate 40): p-value =0.0\n",
      "Levene's test for equality of variances: p-value =0.7840494387892463\n"
     ]
    }
   ],
   "source": [
    "# Normality assumption:\n",
    "# H0: Distribution is Normal\n",
    "# H1: Distribution is not Normal\n",
    "\n",
    "shapiro_stat_30,shapiro_p_value_30 = shapiro(df_clean[df_clean['version']== 'gate_30']['sum_gamerounds'])\n",
    "shapiro_stat_40,shapiro_p_value_40 = shapiro(df_clean[df_clean['version']== 'gate_40']['sum_gamerounds'])\n",
    "print(f'Shapiro-Wilk test for normality (Gate 30):p-value ={shapiro_p_value_30}')\n",
    "print(f'Shapiro-Wilk test for normality (Gate 40): p-value ={shapiro_p_value_40}')\n",
    "\n",
    "# Homogeneity of variances:\n",
    "# H0: Homogeneity\n",
    "# H1: Heterogeneous\n",
    "\n",
    "levene_stat, levene_p_value = levene(df_clean[df_clean['version'] == 'gate_30']['sum_gamerounds'],df_clean[df_clean['version'] == 'gate_40']['sum_gamerounds'])\n",
    "print(f\"Levene's test for equality of variances: p-value ={levene_p_value}\")"
   ]
  },
  {
   "cell_type": "markdown",
   "id": "21e6f8ce-a03a-4706-82c0-730e512d266a",
   "metadata": {},
   "source": [
    "In both versions, the variable 'sum_gamerounds' is non-normally distributed based on the p-value from the Shapiro-Wilk test, which provides strong evidence to reject the null hypothesis that the data are normally distributed. However, the two versions for the gamerounds have homogeneous variance based on Levene's test, which does not provide strong evidence to reject the null hypothesis of homogeneity of variances.\r\n",
    "\r\n",
    "Therefore, let's perform a non parametrical test. As we are comparing the mean of gamerounds, let's performa a Wilcoxon-Mann-Whitney U test"
   ]
  },
  {
   "cell_type": "code",
   "execution_count": 47,
   "id": "21b6f403-7938-4c20-b647-7ea70fef9a53",
   "metadata": {},
   "outputs": [
    {
     "name": "stdout",
     "output_type": "stream",
     "text": [
      "Mann-Whitney U statistic: 1024285761.5\n",
      "P-value: 0.05089155279145376\n"
     ]
    }
   ],
   "source": [
    "from scipy.stats import mannwhitneyu\n",
    "\n",
    "group_30 = df_clean[df_clean['version'] == 'gate_30']['sum_gamerounds']\n",
    "group_40 = df_clean[df_clean['version'] == 'gate_40']['sum_gamerounds']\n",
    "\n",
    "# Mann-Whitney U\n",
    "statistic, p_value = mannwhitneyu(group_30, group_40)\n",
    "\n",
    "print(\"Mann-Whitney U statistic:\", statistic)\n",
    "print(\"P-value:\", p_value)"
   ]
  },
  {
   "cell_type": "markdown",
   "id": "16f95cd3-a834-452a-af99-ba0b133e98d3",
   "metadata": {},
   "source": [
    "Since the p-value is greater than the significance level of 0.05, there is not enough evidence to reject the null hypothesis. Therefore, we cannot conclude that there is a significant difference between the distributions of 'sum_gamerounds' for the 'gate_30' and 'gate_40' versions."
   ]
  },
  {
   "cell_type": "markdown",
   "id": "a8966510-84a3-4e87-a99a-6c7a246ec035",
   "metadata": {},
   "source": [
    "# Conlusions"
   ]
  },
  {
   "cell_type": "markdown",
   "id": "e4e63fe6-ad86-4764-b940-2911cd87697a",
   "metadata": {},
   "source": [
    "After conducting an exploratory analysis and the pertinent hypothesis tests, the conclusions are as follows:\n",
    "\n",
    "\n",
    "\n",
    "* Changing the gate from level 30 to level 40 does not have a significant effect on the retention rate after 1 day nor on the number of rounds played by the users.\n",
    "\n",
    "\n",
    "\n",
    "\n",
    "* Changing the gate from level 30 to level 40 has a significant effect on the retention of the users 7 days after the installation of the game. However, upon examining the retention proportions, we observe a very small difference between gate_30 (19.01%) and gate_40 (18.20%), with gate_30 performing slightly better.\n",
    "\n",
    "\n",
    "\n",
    "\r\n",
    "Therefore, the company should not change the gate level from 30 to 40."
   ]
  }
 ],
 "metadata": {
  "kernelspec": {
   "display_name": "Python 3 (ipykernel)",
   "language": "python",
   "name": "python3"
  },
  "language_info": {
   "codemirror_mode": {
    "name": "ipython",
    "version": 3
   },
   "file_extension": ".py",
   "mimetype": "text/x-python",
   "name": "python",
   "nbconvert_exporter": "python",
   "pygments_lexer": "ipython3",
   "version": "3.11.7"
  }
 },
 "nbformat": 4,
 "nbformat_minor": 5
}
